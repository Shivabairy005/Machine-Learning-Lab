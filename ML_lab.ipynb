{
  "nbformat": 4,
  "nbformat_minor": 0,
  "metadata": {
    "colab": {
      "provenance": [],
      "authorship_tag": "ABX9TyNC/SsXpZjeCMcL3BALyFcS",
      "include_colab_link": true
    },
    "kernelspec": {
      "name": "python3",
      "display_name": "Python 3"
    },
    "language_info": {
      "name": "python"
    }
  },
  "cells": [
    {
      "cell_type": "markdown",
      "metadata": {
        "id": "view-in-github",
        "colab_type": "text"
      },
      "source": [
        "<a href=\"https://colab.research.google.com/github/Shivabairy005/Machine-Learning-Lab/blob/main/ML_lab.ipynb\" target=\"_parent\"><img src=\"https://colab.research.google.com/assets/colab-badge.svg\" alt=\"Open In Colab\"/></a>"
      ]
    },
    {
      "cell_type": "markdown",
      "source": [
        "23rd July 2025"
      ],
      "metadata": {
        "id": "vrZo6LyMwwRr"
      }
    },
    {
      "cell_type": "code",
      "source": [
        "import pandas as pd"
      ],
      "metadata": {
        "id": "mNiPo6Is8f3P"
      },
      "execution_count": 2,
      "outputs": []
    },
    {
      "cell_type": "code",
      "execution_count": 1,
      "metadata": {
        "colab": {
          "base_uri": "https://localhost:8080/"
        },
        "id": "g9J-lhoHdfY5",
        "outputId": "678030e6-c277-491e-8199-b4438ebdd2bf",
        "collapsed": true
      },
      "outputs": [
        {
          "output_type": "stream",
          "name": "stdout",
          "text": [
            "            2014   2015    2016   2017\n",
            "Madhu      100.5  12000   20000  50000\n",
            "Kusum      150.8  18000   50000  60000\n",
            "Kinshuk    200.9  22000   70000  70000\n",
            "Ankit    30000.0  30000  100000  80000\n",
            "Shruti   40000.0  45000  125000  90000\n"
          ]
        }
      ],
      "source": [
        "data = {'2014' : [100.5,150.8,200.9,30000,40000],\n",
        "        '2015' : [12000,18000,22000,30000,45000],\n",
        "        '2016' : [20000,50000,70000,100000,125000],\n",
        "        '2017' : [50000,60000,70000,80000,90000]\n",
        "}\n",
        "indexes = ['Madhu','Kusum','Kinshuk','Ankit','Shruti']\n",
        "Sales = pd.DataFrame(data,index = indexes) #Sales dataframe is created\n",
        "print(Sales)"
      ]
    },
    {
      "cell_type": "code",
      "source": [
        "print(Sales.index)\n",
        "print(Sales.columns)"
      ],
      "metadata": {
        "colab": {
          "base_uri": "https://localhost:8080/"
        },
        "id": "676UY-AZxHii",
        "outputId": "853b0584-8ef9-43b8-b73d-77f8cb6140b5",
        "collapsed": true
      },
      "execution_count": null,
      "outputs": [
        {
          "output_type": "stream",
          "name": "stdout",
          "text": [
            "Index(['Madhu', 'Kusum', 'Kinshuk', 'Ankit', 'Shruti'], dtype='object')\n",
            "Index(['2014', '2015', '2016', '2017'], dtype='object')\n"
          ]
        }
      ]
    },
    {
      "cell_type": "markdown",
      "source": [
        "27th July 2025"
      ],
      "metadata": {
        "id": "_YOZmiru8v8u"
      }
    },
    {
      "cell_type": "code",
      "source": [
        "#data type of each column is displayed\n",
        "print(Sales.dtypes)"
      ],
      "metadata": {
        "colab": {
          "base_uri": "https://localhost:8080/"
        },
        "collapsed": true,
        "id": "fPUUQsT5vYuj",
        "outputId": "38bf21db-16f4-430b-cdcc-7b0feb1d81bb"
      },
      "execution_count": null,
      "outputs": [
        {
          "output_type": "stream",
          "name": "stdout",
          "text": [
            "2014    float64\n",
            "2015      int64\n",
            "2016      int64\n",
            "2017      int64\n",
            "dtype: object\n"
          ]
        }
      ]
    },
    {
      "cell_type": "code",
      "source": [
        "#Displaying shape, dimension, size, values\n",
        "print(Sales.shape)\n",
        "print(Sales.ndim)\n",
        "print(Sales.size)\n",
        "print(Sales.values)"
      ],
      "metadata": {
        "colab": {
          "base_uri": "https://localhost:8080/"
        },
        "collapsed": true,
        "id": "N2HH9huhvs56",
        "outputId": "19445c28-aa61-4a27-d060-d60f49008cdf"
      },
      "execution_count": null,
      "outputs": [
        {
          "output_type": "stream",
          "name": "stdout",
          "text": [
            "(5, 4)\n",
            "2\n",
            "20\n",
            "[[1.005e+02 1.200e+04 2.000e+04 5.000e+04]\n",
            " [1.508e+02 1.800e+04 5.000e+04 6.000e+04]\n",
            " [2.009e+02 2.200e+04 7.000e+04 7.000e+04]\n",
            " [      nan 3.000e+04 3.000e+04 1.000e+05]\n",
            " [      nan 4.000e+04 4.500e+04 1.250e+05]]\n"
          ]
        }
      ]
    },
    {
      "cell_type": "code",
      "source": [
        "print(Sales.tail(2)) # displaying first two columns"
      ],
      "metadata": {
        "colab": {
          "base_uri": "https://localhost:8080/"
        },
        "collapsed": true,
        "id": "cQJI4oLlwCs7",
        "outputId": "e72f747e-67c4-4477-9d62-17ea5564189a"
      },
      "execution_count": null,
      "outputs": [
        {
          "output_type": "stream",
          "name": "stdout",
          "text": [
            "        2014   2015   2016    2017\n",
            "Ankit    NaN  30000  30000  100000\n",
            "Shruti   NaN  40000  45000  125000\n"
          ]
        }
      ]
    },
    {
      "cell_type": "code",
      "source": [
        "print(Sales.head(2)) #displaying first two columns"
      ],
      "metadata": {
        "colab": {
          "base_uri": "https://localhost:8080/"
        },
        "collapsed": true,
        "id": "4-u1QpEtwHYC",
        "outputId": "045aa4e9-9002-4c8e-888c-cbf4ab1a8d9d"
      },
      "execution_count": null,
      "outputs": [
        {
          "output_type": "stream",
          "name": "stdout",
          "text": [
            "        2014   2015   2016   2017\n",
            "Madhu  100.5  12000  20000  50000\n",
            "Kusum  150.8  18000  50000  60000\n"
          ]
        }
      ]
    },
    {
      "cell_type": "code",
      "source": [
        "new_data = {'2018' : [160000,110000,500000,340000,900000]}\n",
        "Sales2 = pd.DataFrame(new_data, index = indexes) #Sales2 Dataframe is created"
      ],
      "metadata": {
        "id": "2Ew_J4hHwXRb"
      },
      "execution_count": null,
      "outputs": []
    },
    {
      "cell_type": "code",
      "source": [
        "print(Sales2) #checking Sales2 is empty or not"
      ],
      "metadata": {
        "id": "w1vWUEZdxNGr"
      },
      "execution_count": null,
      "outputs": []
    },
    {
      "cell_type": "code",
      "source": [
        "#appending sales and sales2 df\n",
        "Combined_Sales = pd.concat([Sales,Sales2], axis=1)\n",
        "print(Combined_Sales)"
      ],
      "metadata": {
        "colab": {
          "base_uri": "https://localhost:8080/"
        },
        "id": "0fO_JMJrx44b",
        "outputId": "1a0a5ca8-de9b-4902-bb56-e4fa68ce4412"
      },
      "execution_count": null,
      "outputs": [
        {
          "output_type": "stream",
          "name": "stdout",
          "text": [
            "            2014   2015    2016   2017    2018\n",
            "Madhu      100.5  12000   20000  50000  160000\n",
            "Kusum      150.8  18000   50000  60000  110000\n",
            "Kinshuk    200.9  22000   70000  70000  500000\n",
            "Ankit    30000.0  30000  100000  80000  340000\n",
            "Shruti   40000.0  45000  125000  90000  900000\n"
          ]
        }
      ]
    },
    {
      "cell_type": "code",
      "source": [
        "Sales.transpose() #transposing a dataframe"
      ],
      "metadata": {
        "colab": {
          "base_uri": "https://localhost:8080/",
          "height": 174
        },
        "id": "FHNNfv5H0NJK",
        "outputId": "7a0aaffa-9df4-416c-a20d-3009c109f8da"
      },
      "execution_count": null,
      "outputs": [
        {
          "output_type": "execute_result",
          "data": {
            "text/plain": [
              "        Madhu    Kusum  Kinshuk     Ankit    Shruti\n",
              "2014    100.5    150.8    200.9   30000.0   40000.0\n",
              "2015  12000.0  18000.0  22000.0   30000.0   45000.0\n",
              "2016  20000.0  50000.0  70000.0  100000.0  125000.0\n",
              "2017  50000.0  60000.0  70000.0   80000.0   90000.0"
            ],
            "text/html": [
              "\n",
              "  <div id=\"df-1c91d169-92f6-4007-97dd-fd13529c8be5\" class=\"colab-df-container\">\n",
              "    <div>\n",
              "<style scoped>\n",
              "    .dataframe tbody tr th:only-of-type {\n",
              "        vertical-align: middle;\n",
              "    }\n",
              "\n",
              "    .dataframe tbody tr th {\n",
              "        vertical-align: top;\n",
              "    }\n",
              "\n",
              "    .dataframe thead th {\n",
              "        text-align: right;\n",
              "    }\n",
              "</style>\n",
              "<table border=\"1\" class=\"dataframe\">\n",
              "  <thead>\n",
              "    <tr style=\"text-align: right;\">\n",
              "      <th></th>\n",
              "      <th>Madhu</th>\n",
              "      <th>Kusum</th>\n",
              "      <th>Kinshuk</th>\n",
              "      <th>Ankit</th>\n",
              "      <th>Shruti</th>\n",
              "    </tr>\n",
              "  </thead>\n",
              "  <tbody>\n",
              "    <tr>\n",
              "      <th>2014</th>\n",
              "      <td>100.5</td>\n",
              "      <td>150.8</td>\n",
              "      <td>200.9</td>\n",
              "      <td>30000.0</td>\n",
              "      <td>40000.0</td>\n",
              "    </tr>\n",
              "    <tr>\n",
              "      <th>2015</th>\n",
              "      <td>12000.0</td>\n",
              "      <td>18000.0</td>\n",
              "      <td>22000.0</td>\n",
              "      <td>30000.0</td>\n",
              "      <td>45000.0</td>\n",
              "    </tr>\n",
              "    <tr>\n",
              "      <th>2016</th>\n",
              "      <td>20000.0</td>\n",
              "      <td>50000.0</td>\n",
              "      <td>70000.0</td>\n",
              "      <td>100000.0</td>\n",
              "      <td>125000.0</td>\n",
              "    </tr>\n",
              "    <tr>\n",
              "      <th>2017</th>\n",
              "      <td>50000.0</td>\n",
              "      <td>60000.0</td>\n",
              "      <td>70000.0</td>\n",
              "      <td>80000.0</td>\n",
              "      <td>90000.0</td>\n",
              "    </tr>\n",
              "  </tbody>\n",
              "</table>\n",
              "</div>\n",
              "    <div class=\"colab-df-buttons\">\n",
              "\n",
              "  <div class=\"colab-df-container\">\n",
              "    <button class=\"colab-df-convert\" onclick=\"convertToInteractive('df-1c91d169-92f6-4007-97dd-fd13529c8be5')\"\n",
              "            title=\"Convert this dataframe to an interactive table.\"\n",
              "            style=\"display:none;\">\n",
              "\n",
              "  <svg xmlns=\"http://www.w3.org/2000/svg\" height=\"24px\" viewBox=\"0 -960 960 960\">\n",
              "    <path d=\"M120-120v-720h720v720H120Zm60-500h600v-160H180v160Zm220 220h160v-160H400v160Zm0 220h160v-160H400v160ZM180-400h160v-160H180v160Zm440 0h160v-160H620v160ZM180-180h160v-160H180v160Zm440 0h160v-160H620v160Z\"/>\n",
              "  </svg>\n",
              "    </button>\n",
              "\n",
              "  <style>\n",
              "    .colab-df-container {\n",
              "      display:flex;\n",
              "      gap: 12px;\n",
              "    }\n",
              "\n",
              "    .colab-df-convert {\n",
              "      background-color: #E8F0FE;\n",
              "      border: none;\n",
              "      border-radius: 50%;\n",
              "      cursor: pointer;\n",
              "      display: none;\n",
              "      fill: #1967D2;\n",
              "      height: 32px;\n",
              "      padding: 0 0 0 0;\n",
              "      width: 32px;\n",
              "    }\n",
              "\n",
              "    .colab-df-convert:hover {\n",
              "      background-color: #E2EBFA;\n",
              "      box-shadow: 0px 1px 2px rgba(60, 64, 67, 0.3), 0px 1px 3px 1px rgba(60, 64, 67, 0.15);\n",
              "      fill: #174EA6;\n",
              "    }\n",
              "\n",
              "    .colab-df-buttons div {\n",
              "      margin-bottom: 4px;\n",
              "    }\n",
              "\n",
              "    [theme=dark] .colab-df-convert {\n",
              "      background-color: #3B4455;\n",
              "      fill: #D2E3FC;\n",
              "    }\n",
              "\n",
              "    [theme=dark] .colab-df-convert:hover {\n",
              "      background-color: #434B5C;\n",
              "      box-shadow: 0px 1px 3px 1px rgba(0, 0, 0, 0.15);\n",
              "      filter: drop-shadow(0px 1px 2px rgba(0, 0, 0, 0.3));\n",
              "      fill: #FFFFFF;\n",
              "    }\n",
              "  </style>\n",
              "\n",
              "    <script>\n",
              "      const buttonEl =\n",
              "        document.querySelector('#df-1c91d169-92f6-4007-97dd-fd13529c8be5 button.colab-df-convert');\n",
              "      buttonEl.style.display =\n",
              "        google.colab.kernel.accessAllowed ? 'block' : 'none';\n",
              "\n",
              "      async function convertToInteractive(key) {\n",
              "        const element = document.querySelector('#df-1c91d169-92f6-4007-97dd-fd13529c8be5');\n",
              "        const dataTable =\n",
              "          await google.colab.kernel.invokeFunction('convertToInteractive',\n",
              "                                                    [key], {});\n",
              "        if (!dataTable) return;\n",
              "\n",
              "        const docLinkHtml = 'Like what you see? Visit the ' +\n",
              "          '<a target=\"_blank\" href=https://colab.research.google.com/notebooks/data_table.ipynb>data table notebook</a>'\n",
              "          + ' to learn more about interactive tables.';\n",
              "        element.innerHTML = '';\n",
              "        dataTable['output_type'] = 'display_data';\n",
              "        await google.colab.output.renderOutput(dataTable, element);\n",
              "        const docLink = document.createElement('div');\n",
              "        docLink.innerHTML = docLinkHtml;\n",
              "        element.appendChild(docLink);\n",
              "      }\n",
              "    </script>\n",
              "  </div>\n",
              "\n",
              "\n",
              "    <div id=\"df-9056cb30-38ec-4b0c-be76-fd06ba4b05bc\">\n",
              "      <button class=\"colab-df-quickchart\" onclick=\"quickchart('df-9056cb30-38ec-4b0c-be76-fd06ba4b05bc')\"\n",
              "                title=\"Suggest charts\"\n",
              "                style=\"display:none;\">\n",
              "\n",
              "<svg xmlns=\"http://www.w3.org/2000/svg\" height=\"24px\"viewBox=\"0 0 24 24\"\n",
              "     width=\"24px\">\n",
              "    <g>\n",
              "        <path d=\"M19 3H5c-1.1 0-2 .9-2 2v14c0 1.1.9 2 2 2h14c1.1 0 2-.9 2-2V5c0-1.1-.9-2-2-2zM9 17H7v-7h2v7zm4 0h-2V7h2v10zm4 0h-2v-4h2v4z\"/>\n",
              "    </g>\n",
              "</svg>\n",
              "      </button>\n",
              "\n",
              "<style>\n",
              "  .colab-df-quickchart {\n",
              "      --bg-color: #E8F0FE;\n",
              "      --fill-color: #1967D2;\n",
              "      --hover-bg-color: #E2EBFA;\n",
              "      --hover-fill-color: #174EA6;\n",
              "      --disabled-fill-color: #AAA;\n",
              "      --disabled-bg-color: #DDD;\n",
              "  }\n",
              "\n",
              "  [theme=dark] .colab-df-quickchart {\n",
              "      --bg-color: #3B4455;\n",
              "      --fill-color: #D2E3FC;\n",
              "      --hover-bg-color: #434B5C;\n",
              "      --hover-fill-color: #FFFFFF;\n",
              "      --disabled-bg-color: #3B4455;\n",
              "      --disabled-fill-color: #666;\n",
              "  }\n",
              "\n",
              "  .colab-df-quickchart {\n",
              "    background-color: var(--bg-color);\n",
              "    border: none;\n",
              "    border-radius: 50%;\n",
              "    cursor: pointer;\n",
              "    display: none;\n",
              "    fill: var(--fill-color);\n",
              "    height: 32px;\n",
              "    padding: 0;\n",
              "    width: 32px;\n",
              "  }\n",
              "\n",
              "  .colab-df-quickchart:hover {\n",
              "    background-color: var(--hover-bg-color);\n",
              "    box-shadow: 0 1px 2px rgba(60, 64, 67, 0.3), 0 1px 3px 1px rgba(60, 64, 67, 0.15);\n",
              "    fill: var(--button-hover-fill-color);\n",
              "  }\n",
              "\n",
              "  .colab-df-quickchart-complete:disabled,\n",
              "  .colab-df-quickchart-complete:disabled:hover {\n",
              "    background-color: var(--disabled-bg-color);\n",
              "    fill: var(--disabled-fill-color);\n",
              "    box-shadow: none;\n",
              "  }\n",
              "\n",
              "  .colab-df-spinner {\n",
              "    border: 2px solid var(--fill-color);\n",
              "    border-color: transparent;\n",
              "    border-bottom-color: var(--fill-color);\n",
              "    animation:\n",
              "      spin 1s steps(1) infinite;\n",
              "  }\n",
              "\n",
              "  @keyframes spin {\n",
              "    0% {\n",
              "      border-color: transparent;\n",
              "      border-bottom-color: var(--fill-color);\n",
              "      border-left-color: var(--fill-color);\n",
              "    }\n",
              "    20% {\n",
              "      border-color: transparent;\n",
              "      border-left-color: var(--fill-color);\n",
              "      border-top-color: var(--fill-color);\n",
              "    }\n",
              "    30% {\n",
              "      border-color: transparent;\n",
              "      border-left-color: var(--fill-color);\n",
              "      border-top-color: var(--fill-color);\n",
              "      border-right-color: var(--fill-color);\n",
              "    }\n",
              "    40% {\n",
              "      border-color: transparent;\n",
              "      border-right-color: var(--fill-color);\n",
              "      border-top-color: var(--fill-color);\n",
              "    }\n",
              "    60% {\n",
              "      border-color: transparent;\n",
              "      border-right-color: var(--fill-color);\n",
              "    }\n",
              "    80% {\n",
              "      border-color: transparent;\n",
              "      border-right-color: var(--fill-color);\n",
              "      border-bottom-color: var(--fill-color);\n",
              "    }\n",
              "    90% {\n",
              "      border-color: transparent;\n",
              "      border-bottom-color: var(--fill-color);\n",
              "    }\n",
              "  }\n",
              "</style>\n",
              "\n",
              "      <script>\n",
              "        async function quickchart(key) {\n",
              "          const quickchartButtonEl =\n",
              "            document.querySelector('#' + key + ' button');\n",
              "          quickchartButtonEl.disabled = true;  // To prevent multiple clicks.\n",
              "          quickchartButtonEl.classList.add('colab-df-spinner');\n",
              "          try {\n",
              "            const charts = await google.colab.kernel.invokeFunction(\n",
              "                'suggestCharts', [key], {});\n",
              "          } catch (error) {\n",
              "            console.error('Error during call to suggestCharts:', error);\n",
              "          }\n",
              "          quickchartButtonEl.classList.remove('colab-df-spinner');\n",
              "          quickchartButtonEl.classList.add('colab-df-quickchart-complete');\n",
              "        }\n",
              "        (() => {\n",
              "          let quickchartButtonEl =\n",
              "            document.querySelector('#df-9056cb30-38ec-4b0c-be76-fd06ba4b05bc button');\n",
              "          quickchartButtonEl.style.display =\n",
              "            google.colab.kernel.accessAllowed ? 'block' : 'none';\n",
              "        })();\n",
              "      </script>\n",
              "    </div>\n",
              "\n",
              "    </div>\n",
              "  </div>\n"
            ],
            "application/vnd.google.colaboratory.intrinsic+json": {
              "type": "dataframe",
              "summary": "{\n  \"name\": \"Sales\",\n  \"rows\": 4,\n  \"fields\": [\n    {\n      \"column\": \"Madhu\",\n      \"properties\": {\n        \"dtype\": \"number\",\n        \"std\": 21282.912357002115,\n        \"min\": 100.5,\n        \"max\": 50000.0,\n        \"num_unique_values\": 4,\n        \"samples\": [\n          12000.0,\n          50000.0,\n          100.5\n        ],\n        \"semantic_type\": \"\",\n        \"description\": \"\"\n      }\n    },\n    {\n      \"column\": \"Kusum\",\n      \"properties\": {\n        \"dtype\": \"number\",\n        \"std\": 27799.07585682181,\n        \"min\": 150.8,\n        \"max\": 60000.0,\n        \"num_unique_values\": 4,\n        \"samples\": [\n          18000.0,\n          60000.0,\n          150.8\n        ],\n        \"semantic_type\": \"\",\n        \"description\": \"\"\n      }\n    },\n    {\n      \"column\": \"Kinshuk\",\n      \"properties\": {\n        \"dtype\": \"number\",\n        \"std\": 35150.90027584642,\n        \"min\": 200.9,\n        \"max\": 70000.0,\n        \"num_unique_values\": 3,\n        \"samples\": [\n          200.9,\n          22000.0,\n          70000.0\n        ],\n        \"semantic_type\": \"\",\n        \"description\": \"\"\n      }\n    },\n    {\n      \"column\": \"Ankit\",\n      \"properties\": {\n        \"dtype\": \"number\",\n        \"std\": 35590.26084010437,\n        \"min\": 30000.0,\n        \"max\": 100000.0,\n        \"num_unique_values\": 3,\n        \"samples\": [\n          30000.0,\n          100000.0,\n          80000.0\n        ],\n        \"semantic_type\": \"\",\n        \"description\": \"\"\n      }\n    },\n    {\n      \"column\": \"Shruti\",\n      \"properties\": {\n        \"dtype\": \"number\",\n        \"std\": 40207.793606049396,\n        \"min\": 40000.0,\n        \"max\": 125000.0,\n        \"num_unique_values\": 4,\n        \"samples\": [\n          45000.0,\n          90000.0,\n          40000.0\n        ],\n        \"semantic_type\": \"\",\n        \"description\": \"\"\n      }\n    }\n  ]\n}"
            }
          },
          "metadata": {},
          "execution_count": 31
        }
      ]
    },
    {
      "cell_type": "code",
      "source": [
        "print(Sales['2017']) # Sales made in 2017"
      ],
      "metadata": {
        "colab": {
          "base_uri": "https://localhost:8080/"
        },
        "id": "2PrKjOSa0_cM",
        "outputId": "d808a0ef-f707-418e-b9a9-01abb3c25814"
      },
      "execution_count": null,
      "outputs": [
        {
          "output_type": "stream",
          "name": "stdout",
          "text": [
            "Madhu      50000\n",
            "Kusum      60000\n",
            "Kinshuk    70000\n",
            "Ankit      80000\n",
            "Shruti     90000\n",
            "Name: 2017, dtype: int64\n"
          ]
        }
      ]
    },
    {
      "cell_type": "code",
      "source": [
        "#Sales made by Madhu and Ankit in 2017 and 2018\n",
        "print(Combined_Sales.loc[[\"Madhu\",'Ankit'],[\"2017\",'2018']])"
      ],
      "metadata": {
        "colab": {
          "base_uri": "https://localhost:8080/"
        },
        "id": "wnRAnsI-1GR-",
        "outputId": "a21966fd-fdf4-4e8f-e1b1-3ccb09048910"
      },
      "execution_count": null,
      "outputs": [
        {
          "output_type": "stream",
          "name": "stdout",
          "text": [
            "        2017    2018\n",
            "Madhu  50000  160000\n",
            "Ankit  80000  340000\n"
          ]
        }
      ]
    },
    {
      "cell_type": "code",
      "source": [
        "print(Sales.loc[['Shruti'],['2016']]) #Sales made by Shruti in 2016"
      ],
      "metadata": {
        "colab": {
          "base_uri": "https://localhost:8080/"
        },
        "id": "tIfXxF-M1w6L",
        "outputId": "b0d3043b-493f-426c-f12c-4b5e816bc56e"
      },
      "execution_count": null,
      "outputs": [
        {
          "output_type": "stream",
          "name": "stdout",
          "text": [
            "          2016\n",
            "Shruti  125000\n"
          ]
        }
      ]
    },
    {
      "cell_type": "code",
      "source": [
        "#adding a new salesman Sumeet\n",
        "Combined_Sales.loc[\"Sumeet\"] = [196.2, 37800, 52000, 78438, 38852]\n",
        "print(Combined_Sales)"
      ],
      "metadata": {
        "colab": {
          "base_uri": "https://localhost:8080/"
        },
        "id": "siYAko9s2I0C",
        "outputId": "4d25147e-4456-4ea7-aec8-39454eeb7e41"
      },
      "execution_count": null,
      "outputs": [
        {
          "output_type": "stream",
          "name": "stdout",
          "text": [
            "            2014     2015      2016     2017      2018\n",
            "Madhu      100.5  12000.0   20000.0  50000.0  160000.0\n",
            "Kusum      150.8  18000.0   50000.0  60000.0  110000.0\n",
            "Kinshuk    200.9  22000.0   70000.0  70000.0  500000.0\n",
            "Ankit    30000.0  30000.0  100000.0  80000.0  340000.0\n",
            "Shruti   40000.0  45000.0  125000.0  90000.0  900000.0\n",
            "Sumeet     196.2  37800.0   52000.0  78438.0   38852.0\n"
          ]
        }
      ]
    },
    {
      "cell_type": "code",
      "source": [
        "Sales.drop(['2014'], axis=1, inplace=True) #Dropping 2014 row from sales\n",
        "print(Sales)"
      ],
      "metadata": {
        "colab": {
          "base_uri": "https://localhost:8080/"
        },
        "id": "zTNgv6pg4PZj",
        "outputId": "9ed256e0-fdd7-4211-8625-04eaa303c394"
      },
      "execution_count": null,
      "outputs": [
        {
          "output_type": "stream",
          "name": "stdout",
          "text": [
            "          2015    2016   2017\n",
            "Madhu    12000   20000  50000\n",
            "Kusum    18000   50000  60000\n",
            "Kinshuk  22000   70000  70000\n",
            "Ankit    30000  100000  80000\n",
            "Shruti   45000  125000  90000\n"
          ]
        }
      ]
    },
    {
      "cell_type": "code",
      "source": [
        "Sales.drop(['Kinshuk'], axis=0, inplace=True) #Dropping Kinshuk from sales\n",
        "print(Sales)"
      ],
      "metadata": {
        "colab": {
          "base_uri": "https://localhost:8080/"
        },
        "id": "7Niu5CfF49Bb",
        "outputId": "96bded3d-121e-4e6b-de57-883e15f71044"
      },
      "execution_count": null,
      "outputs": [
        {
          "output_type": "stream",
          "name": "stdout",
          "text": [
            "         2015    2016   2017\n",
            "Madhu   12000   20000  50000\n",
            "Kusum   18000   50000  60000\n",
            "Ankit   30000  100000  80000\n",
            "Shruti  45000  125000  90000\n"
          ]
        }
      ]
    },
    {
      "cell_type": "code",
      "source": [
        "#Renaming the index name\n",
        "Sales.rename(index = {'Ankit' : 'Vivaan',\n",
        "                      'Madhu' : 'Shailesh'}, inplace=True )\n",
        "print(Sales)"
      ],
      "metadata": {
        "colab": {
          "base_uri": "https://localhost:8080/"
        },
        "id": "wqlLsJnz5wHE",
        "outputId": "719a1986-1216-47a3-ec7c-78771f5b8da0"
      },
      "execution_count": null,
      "outputs": [
        {
          "output_type": "stream",
          "name": "stdout",
          "text": [
            "           2015    2016   2017\n",
            "Shailesh  12000   20000  50000\n",
            "Kusum     18000   50000  60000\n",
            "Vivaan    30000  100000  80000\n",
            "Shruti    45000  125000  90000\n"
          ]
        }
      ]
    },
    {
      "cell_type": "code",
      "source": [
        "#Displaying Shailesh sales in 2018\n",
        "Sales.loc[['Shailesh'],['2018']] = 100000\n",
        "print(Sales)"
      ],
      "metadata": {
        "colab": {
          "base_uri": "https://localhost:8080/"
        },
        "id": "X-5o3Xal6mJk",
        "outputId": "2b68173b-54d2-4c9c-bca5-426636161e6a"
      },
      "execution_count": null,
      "outputs": [
        {
          "output_type": "stream",
          "name": "stdout",
          "text": [
            "           2015    2016   2017      2018\n",
            "Shailesh  12000   20000  50000  100000.0\n",
            "Kusum     18000   50000  60000       NaN\n",
            "Vivaan    30000  100000  80000       NaN\n",
            "Shruti    45000  125000  90000       NaN\n"
          ]
        }
      ]
    },
    {
      "cell_type": "code",
      "source": [
        "#Exporting data into csv file\n",
        "Sales.to_csv(\"SalesFigures.csv\", index=False, header=False)"
      ],
      "metadata": {
        "id": "b80-bcny7sRU"
      },
      "execution_count": null,
      "outputs": []
    },
    {
      "cell_type": "code",
      "source": [
        "#Reading a csv file and upadting the row and column\n",
        "SalesRetrieved = pd.read_csv(\"SalesFigures.csv\", header=None)\n",
        "SalesRetrieved.columns = Sales.columns\n",
        "SalesRetrieved.index = Sales.index\n",
        "print(SalesRetrieved)"
      ],
      "metadata": {
        "colab": {
          "base_uri": "https://localhost:8080/"
        },
        "id": "SBGmC4p28eVk",
        "outputId": "e2cf80e6-64f6-435b-f761-4bcee1fc0bab"
      },
      "execution_count": null,
      "outputs": [
        {
          "output_type": "stream",
          "name": "stdout",
          "text": [
            "           2015    2016   2017      2018\n",
            "Shailesh  12000   20000  50000  100000.0\n",
            "Kusum     18000   50000  60000       NaN\n",
            "Vivaan    30000  100000  80000       NaN\n",
            "Shruti    45000  125000  90000       NaN\n"
          ]
        }
      ]
    },
    {
      "cell_type": "markdown",
      "source": [
        "28th July 20205"
      ],
      "metadata": {
        "id": "xwrSjshn8ByA"
      }
    },
    {
      "cell_type": "code",
      "source": [
        "#Creating as listed in pandas exercise 2 13 question\n",
        "data = [[\"TV\" , \"LG\" , \"12000\" , \"700\"], [\"TV\" , \"VIDEOCON\" , \"10000\" , \"650\"],[\"TV\" , \"LG\" , \"15000\" , \"800\"],[\"AC\" , \"SONY\" , \"14000\" , \"750\"]]\n",
        "ind = [\"Item\" , 'Company' , 'Rupees', 'USD']\n",
        "\n",
        "df = pd.DataFrame(data, columns=  ind)\n",
        "\n",
        "print(df)"
      ],
      "metadata": {
        "colab": {
          "base_uri": "https://localhost:8080/"
        },
        "id": "NoCESfyj8FxQ",
        "outputId": "bfdc96e9-f025-40f3-9aa2-da5cd4235cc9"
      },
      "execution_count": 7,
      "outputs": [
        {
          "output_type": "stream",
          "name": "stdout",
          "text": [
            "  Item   Company Rupees  USD\n",
            "0   TV        LG  12000  700\n",
            "1   TV  VIDEOCON  10000  650\n",
            "2   TV        LG  15000  800\n",
            "3   AC      SONY  14000  750\n"
          ]
        }
      ]
    },
    {
      "cell_type": "code",
      "source": [
        "#Adding new rows to the dataframe\n",
        "df.loc[len(df)] = [\"WATCH\", 'GSHOCK', '7000', '450']\n",
        "df.loc[len(df)] = [\"LAPTOP\", 'HP', '50000', '1200']\n",
        "df.loc[len(df)] = ['AIRPODS', 'APPLE', '12000', '399']"
      ],
      "metadata": {
        "id": "wDNwGxaB-RXJ"
      },
      "execution_count": 8,
      "outputs": []
    },
    {
      "cell_type": "code",
      "source": [
        "print(df)"
      ],
      "metadata": {
        "colab": {
          "base_uri": "https://localhost:8080/"
        },
        "id": "7uYyXQi3_5A4",
        "outputId": "4820b14a-d542-46d6-abd9-38f47219239a"
      },
      "execution_count": 9,
      "outputs": [
        {
          "output_type": "stream",
          "name": "stdout",
          "text": [
            "      Item   Company Rupees   USD\n",
            "0       TV        LG  12000   700\n",
            "1       TV  VIDEOCON  10000   650\n",
            "2       TV        LG  15000   800\n",
            "3       AC      SONY  14000   750\n",
            "4    WATCH    GSHOCK   7000   450\n",
            "5   LAPTOP        HP  50000  1200\n",
            "6  AIRPODS     APPLE  12000   399\n"
          ]
        }
      ]
    },
    {
      "cell_type": "code",
      "source": [
        "#Finding maximum price of lg tv\n",
        "max_lg = df.loc[(df['Company'] == 'LG') & (df['Item'] == 'TV')]['Rupees'].max()\n",
        "print(max_lg)"
      ],
      "metadata": {
        "colab": {
          "base_uri": "https://localhost:8080/"
        },
        "id": "JVmp8H9dAAhR",
        "outputId": "f9f4f83c-1135-4463-bb3f-71bcdeb35b6f"
      },
      "execution_count": 10,
      "outputs": [
        {
          "output_type": "stream",
          "name": "stdout",
          "text": [
            "15000\n"
          ]
        }
      ]
    },
    {
      "cell_type": "code",
      "source": [
        "#Displaying sum of all product\n",
        "print(df['Rupees'].sum())\n",
        "print(df['USD'].sum())"
      ],
      "metadata": {
        "colab": {
          "base_uri": "https://localhost:8080/"
        },
        "id": "Y4mi8cBEBPy5",
        "outputId": "917db2d9-db00-4ed9-cd03-4adf574feedd"
      },
      "execution_count": 14,
      "outputs": [
        {
          "output_type": "stream",
          "name": "stdout",
          "text": [
            "120000\n",
            "4949\n"
          ]
        }
      ]
    },
    {
      "cell_type": "code",
      "source": [
        "#Displaying the median of USD of Sony products\n",
        "med_sony = df.loc[(df['Company'] == 'SONY')]['USD'].median()\n",
        "print(med_sony)"
      ],
      "metadata": {
        "colab": {
          "base_uri": "https://localhost:8080/"
        },
        "id": "csJjwo1LDKbx",
        "outputId": "66b2da10-3599-4b8c-80b5-87be0e630fe7"
      },
      "execution_count": 15,
      "outputs": [
        {
          "output_type": "stream",
          "name": "stdout",
          "text": [
            "750.0\n"
          ]
        }
      ]
    },
    {
      "cell_type": "code",
      "source": [
        "#sorting the rupees\n",
        "sorted_df = df.sort_values(by='Rupees')\n",
        "print(sorted_df)"
      ],
      "metadata": {
        "colab": {
          "base_uri": "https://localhost:8080/"
        },
        "id": "v1qfTC5oDmq1",
        "outputId": "babba369-092e-4aff-edc0-9f2afc12c993"
      },
      "execution_count": 16,
      "outputs": [
        {
          "output_type": "stream",
          "name": "stdout",
          "text": [
            "      Item   Company  Rupees   USD\n",
            "4    WATCH    GSHOCK    7000   450\n",
            "1       TV  VIDEOCON   10000   650\n",
            "6  AIRPODS     APPLE   12000   399\n",
            "0       TV        LG   12000   700\n",
            "3       AC      SONY   14000   750\n",
            "2       TV        LG   15000   800\n",
            "5   LAPTOP        HP   50000  1200\n"
          ]
        }
      ]
    }
  ]
}