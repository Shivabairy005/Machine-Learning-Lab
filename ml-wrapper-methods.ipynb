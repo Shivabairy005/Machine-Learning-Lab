{
 "cells": [
  {
   "cell_type": "code",
   "execution_count": 1,
   "id": "348f8956",
   "metadata": {
    "execution": {
     "iopub.execute_input": "2025-08-20T08:48:02.986179Z",
     "iopub.status.busy": "2025-08-20T08:48:02.985667Z",
     "iopub.status.idle": "2025-08-20T08:48:06.300068Z",
     "shell.execute_reply": "2025-08-20T08:48:06.299476Z"
    },
    "papermill": {
     "duration": 3.318618,
     "end_time": "2025-08-20T08:48:06.301321",
     "exception": false,
     "start_time": "2025-08-20T08:48:02.982703",
     "status": "completed"
    },
    "tags": []
   },
   "outputs": [],
   "source": [
    "import pandas as pd\n",
    "import numpy as np\n",
    "from sklearn.model_selection import train_test_split\n",
    "from sklearn.feature_selection import VarianceThreshold\n",
    "import matplotlib.pyplot as plt\n",
    "import seaborn as sns\n",
    "from sklearn.feature_selection import mutual_info_classif, mutual_info_regression\n",
    "from sklearn.feature_selection import chi2\n",
    "from sklearn.feature_selection import f_classif\n",
    "from sklearn.preprocessing import LabelEncoder\n",
    "from sklearn.ensemble import RandomForestRegressor, RandomForestClassifier\n",
    "from sklearn.metrics import roc_auc_score\n",
    "from mlxtend.feature_selection import SequentialFeatureSelector as SFS\n",
    "from mlxtend.feature_selection import ExhaustiveFeatureSelector as EFS\n",
    "from sklearn.linear_model import LogisticRegression\n",
    "from sklearn.preprocessing import StandardScaler\n",
    "from sklearn.pipeline import make_pipeline\n",
    "from sklearn.feature_selection import RFE"
   ]
  },
  {
   "cell_type": "code",
   "execution_count": 2,
   "id": "dca47053",
   "metadata": {
    "_cell_guid": "b1076dfc-b9ad-4769-8c92-a6c4dae69d19",
    "_uuid": "8f2839f25d086af736a60e9eeb907d3b93b6e0e5",
    "execution": {
     "iopub.execute_input": "2025-08-20T08:48:06.306006Z",
     "iopub.status.busy": "2025-08-20T08:48:06.305695Z",
     "iopub.status.idle": "2025-08-20T08:48:06.427264Z",
     "shell.execute_reply": "2025-08-20T08:48:06.426488Z"
    },
    "papermill": {
     "duration": 0.124879,
     "end_time": "2025-08-20T08:48:06.428435",
     "exception": false,
     "start_time": "2025-08-20T08:48:06.303556",
     "status": "completed"
    },
    "tags": []
   },
   "outputs": [
    {
     "name": "stdout",
     "output_type": "stream",
     "text": [
      "(53214, 14)\n"
     ]
    }
   ],
   "source": [
    "filepath2 = \"/kaggle/input/scs-train/scs_train2.csv\"\n",
    "df2 = pd.read_csv(filepath2)\n",
    "print(df2.shape)"
   ]
  },
  {
   "cell_type": "code",
   "execution_count": 3,
   "id": "96356e56",
   "metadata": {
    "execution": {
     "iopub.execute_input": "2025-08-20T08:48:06.432924Z",
     "iopub.status.busy": "2025-08-20T08:48:06.432682Z",
     "iopub.status.idle": "2025-08-20T08:48:06.462160Z",
     "shell.execute_reply": "2025-08-20T08:48:06.461277Z"
    },
    "papermill": {
     "duration": 0.033117,
     "end_time": "2025-08-20T08:48:06.463483",
     "exception": false,
     "start_time": "2025-08-20T08:48:06.430366",
     "status": "completed"
    },
    "tags": []
   },
   "outputs": [
    {
     "name": "stdout",
     "output_type": "stream",
     "text": [
      "(37249, 13)\n",
      "(15965, 13)\n"
     ]
    }
   ],
   "source": [
    "x_train2 , x_test2 , y_train2 , y_test2 = train_test_split(\n",
    "    df2.drop(labels=['TARGET'],axis=1),\n",
    "    df2['TARGET'],\n",
    "    test_size=0.3,\n",
    "    random_state=0\n",
    ")\n",
    "print(x_train2.shape)\n",
    "print(x_test2.shape)"
   ]
  },
  {
   "cell_type": "code",
   "execution_count": 4,
   "id": "0500080b",
   "metadata": {
    "execution": {
     "iopub.execute_input": "2025-08-20T08:48:06.470339Z",
     "iopub.status.busy": "2025-08-20T08:48:06.469971Z",
     "iopub.status.idle": "2025-08-20T08:49:26.788757Z",
     "shell.execute_reply": "2025-08-20T08:49:26.787966Z"
    },
    "papermill": {
     "duration": 80.324487,
     "end_time": "2025-08-20T08:49:26.791129",
     "exception": false,
     "start_time": "2025-08-20T08:48:06.466642",
     "status": "completed"
    },
    "tags": []
   },
   "outputs": [
    {
     "name": "stderr",
     "output_type": "stream",
     "text": [
      "[Parallel(n_jobs=1)]: Done  13 out of  13 | elapsed:   14.9s finished\n",
      "\n",
      "[2025-08-20 08:48:21] Features: 1/5 -- score: 0.021097760901693168[Parallel(n_jobs=1)]: Done  12 out of  12 | elapsed:   13.9s finished\n",
      "\n",
      "[2025-08-20 08:48:35] Features: 2/5 -- score: 0.03673369893829548[Parallel(n_jobs=1)]: Done  11 out of  11 | elapsed:   17.6s finished\n",
      "\n",
      "[2025-08-20 08:48:52] Features: 3/5 -- score: 0.03274898439646775[Parallel(n_jobs=1)]: Done  10 out of  10 | elapsed:   17.4s finished\n",
      "\n",
      "[2025-08-20 08:49:10] Features: 4/5 -- score: 0.030178603043354218[Parallel(n_jobs=1)]: Done   9 out of   9 | elapsed:   16.5s finished\n",
      "\n",
      "[2025-08-20 08:49:26] Features: 5/5 -- score: 0.028032453376166815"
     ]
    },
    {
     "data": {
      "text/plain": [
       "Index(['var15', 'ind_var30', 'num_var4', 'num_var30', 'num_var42'], dtype='object')"
      ]
     },
     "execution_count": 4,
     "metadata": {},
     "output_type": "execute_result"
    }
   ],
   "source": [
    "sfs1 = SFS(RandomForestRegressor(n_jobs=4),\n",
    "           k_features = 5,\n",
    "           forward = True,\n",
    "           floating = False,\n",
    "           verbose = 2,\n",
    "           scoring = 'r2',\n",
    "           cv = 3)\n",
    "sfs1 = sfs1.fit(np.array(x_train2), y_train2)\n",
    "x_train2.columns[list(sfs1.k_feature_idx_)]"
   ]
  },
  {
   "cell_type": "code",
   "execution_count": 5,
   "id": "37f3f485",
   "metadata": {
    "execution": {
     "iopub.execute_input": "2025-08-20T08:49:26.796074Z",
     "iopub.status.busy": "2025-08-20T08:49:26.795840Z",
     "iopub.status.idle": "2025-08-20T08:54:51.582814Z",
     "shell.execute_reply": "2025-08-20T08:54:51.582073Z"
    },
    "papermill": {
     "duration": 324.792778,
     "end_time": "2025-08-20T08:54:51.585983",
     "exception": false,
     "start_time": "2025-08-20T08:49:26.793205",
     "status": "completed"
    },
    "tags": []
   },
   "outputs": [
    {
     "name": "stderr",
     "output_type": "stream",
     "text": [
      "[Parallel(n_jobs=1)]: Done  13 out of  13 | elapsed:  1.1min finished\n",
      "\n",
      "[2025-08-20 08:50:41] Features: 12/5 -- score: 0.020070302107834375[Parallel(n_jobs=1)]: Done  12 out of  12 | elapsed:   51.4s finished\n",
      "\n",
      "[2025-08-20 08:51:32] Features: 11/5 -- score: 0.021890400224188273[Parallel(n_jobs=1)]: Done  11 out of  11 | elapsed:   45.8s finished\n",
      "\n",
      "[2025-08-20 08:52:18] Features: 10/5 -- score: 0.02075153578075987[Parallel(n_jobs=1)]: Done  10 out of  10 | elapsed:   40.5s finished\n",
      "\n",
      "[2025-08-20 08:52:59] Features: 9/5 -- score: 0.02146476812803862[Parallel(n_jobs=1)]: Done   9 out of   9 | elapsed:   35.7s finished\n",
      "\n",
      "[2025-08-20 08:53:34] Features: 8/5 -- score: 0.02042234429916523[Parallel(n_jobs=1)]: Done   8 out of   8 | elapsed:   30.7s finished\n",
      "\n",
      "[2025-08-20 08:54:05] Features: 7/5 -- score: 0.018270417010266587[Parallel(n_jobs=1)]: Done   7 out of   7 | elapsed:   25.5s finished\n",
      "\n",
      "[2025-08-20 08:54:31] Features: 6/5 -- score: 0.018762400118806182[Parallel(n_jobs=1)]: Done   6 out of   6 | elapsed:   20.5s finished\n",
      "\n",
      "[2025-08-20 08:54:51] Features: 5/5 -- score: 0.018827233825644368"
     ]
    },
    {
     "data": {
      "text/plain": [
       "Index(['var15', 'saldo_var30', 'var36', 'saldo_medio_var5_hace2',\n",
       "       'saldo_medio_var5_ult1'],\n",
       "      dtype='object')"
      ]
     },
     "execution_count": 5,
     "metadata": {},
     "output_type": "execute_result"
    }
   ],
   "source": [
    "sfs1 = SFS(RandomForestRegressor(n_jobs=4),\n",
    "           k_features = 5,\n",
    "           forward = False,\n",
    "           floating = False,\n",
    "           verbose = 2,\n",
    "           scoring = 'r2',\n",
    "           cv = 3)\n",
    "sfs1 = sfs1.fit(np.array(x_train2), y_train2)\n",
    "x_train2.columns[list(sfs1.k_feature_idx_)]"
   ]
  },
  {
   "cell_type": "code",
   "execution_count": 6,
   "id": "bc649d62",
   "metadata": {
    "execution": {
     "iopub.execute_input": "2025-08-20T08:54:51.591867Z",
     "iopub.status.busy": "2025-08-20T08:54:51.591345Z",
     "iopub.status.idle": "2025-08-20T09:20:39.727901Z",
     "shell.execute_reply": "2025-08-20T09:20:39.726962Z"
    },
    "papermill": {
     "duration": 1548.237975,
     "end_time": "2025-08-20T09:20:39.826293",
     "exception": false,
     "start_time": "2025-08-20T08:54:51.588318",
     "status": "completed"
    },
    "tags": []
   },
   "outputs": [
    {
     "name": "stderr",
     "output_type": "stream",
     "text": [
      "Features: 2379/2379"
     ]
    },
    {
     "name": "stdout",
     "output_type": "stream",
     "text": [
      "Best score: 0.9610996296066047\n",
      "Best feature indices: (0,)\n",
      "Best feature names: ('var15',)\n"
     ]
    }
   ],
   "source": [
    "lr = make_pipeline(StandardScaler(), LogisticRegression(max_iter=500, solver='lbfgs'))\n",
    "efs = EFS(estimator=lr,\n",
    "          min_features=1,\n",
    "          max_features=5,\n",
    "          scoring='accuracy',\n",
    "          print_progress=True,\n",
    "          cv=5\n",
    ")\n",
    "\n",
    "efs = efs.fit(x_train2, y_train2)\n",
    "\n",
    "print(\"Best score:\", efs.best_score_)\n",
    "print(\"Best feature indices:\", efs.best_idx_)\n",
    "print(\"Best feature names:\", efs.best_feature_names_)"
   ]
  },
  {
   "cell_type": "code",
   "execution_count": 7,
   "id": "b6155cdd",
   "metadata": {
    "execution": {
     "iopub.execute_input": "2025-08-20T09:20:40.075880Z",
     "iopub.status.busy": "2025-08-20T09:20:40.075619Z",
     "iopub.status.idle": "2025-08-20T09:20:42.303367Z",
     "shell.execute_reply": "2025-08-20T09:20:42.302310Z"
    },
    "papermill": {
     "duration": 2.322835,
     "end_time": "2025-08-20T09:20:42.306041",
     "exception": false,
     "start_time": "2025-08-20T09:20:39.983206",
     "status": "completed"
    },
    "tags": []
   },
   "outputs": [
    {
     "name": "stdout",
     "output_type": "stream",
     "text": [
      "Selected Features: ['var15', 'ind_var30', 'saldo_var5', 'saldo_var30', 'saldo_medio_var5_ult3']\n",
      "Feature Ranking: {'var15': 1, 'ind_var5': 4, 'ind_var30': 1, 'num_var4': 3, 'num_var30_0': 6, 'num_var30': 2, 'num_var42': 9, 'saldo_var5': 1, 'saldo_var30': 1, 'var36': 7, 'saldo_medio_var5_hace2': 5, 'saldo_medio_var5_ult1': 8, 'saldo_medio_var5_ult3': 1}\n"
     ]
    }
   ],
   "source": [
    "lr = LogisticRegression(max_iter=500, solver='lbfgs')\n",
    "rfe = RFE(estimator=lr, n_features_to_select=5)\n",
    "pipeline = make_pipeline(StandardScaler(), rfe)\n",
    "pipeline.fit(x_train2, y_train2)\n",
    "selected_mask = pipeline.named_steps['rfe'].support_\n",
    "rankings = pipeline.named_steps['rfe'].ranking_\n",
    "\n",
    "print(\"Selected Features:\", x_train2.columns[selected_mask].tolist())\n",
    "print(\"Feature Ranking:\", dict(zip(x_train2.columns, rankings)))"
   ]
  }
 ],
 "metadata": {
  "kaggle": {
   "accelerator": "gpu",
   "dataSources": [
    {
     "datasetId": 8099759,
     "sourceId": 12809529,
     "sourceType": "datasetVersion"
    }
   ],
   "dockerImageVersionId": 31090,
   "isGpuEnabled": true,
   "isInternetEnabled": true,
   "language": "python",
   "sourceType": "notebook"
  },
  "kernelspec": {
   "display_name": "Python 3",
   "language": "python",
   "name": "python3"
  },
  "language_info": {
   "codemirror_mode": {
    "name": "ipython",
    "version": 3
   },
   "file_extension": ".py",
   "mimetype": "text/x-python",
   "name": "python",
   "nbconvert_exporter": "python",
   "pygments_lexer": "ipython3",
   "version": "3.11.13"
  },
  "papermill": {
   "default_parameters": {},
   "duration": 1964.19867,
   "end_time": "2025-08-20T09:20:43.177354",
   "environment_variables": {},
   "exception": null,
   "input_path": "__notebook__.ipynb",
   "output_path": "__notebook__.ipynb",
   "parameters": {},
   "start_time": "2025-08-20T08:47:58.978684",
   "version": "2.6.0"
  }
 },
 "nbformat": 4,
 "nbformat_minor": 5
}
